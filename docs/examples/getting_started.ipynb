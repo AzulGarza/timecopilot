{
 "cells": [
  {
   "cell_type": "markdown",
   "metadata": {},
   "source": [
    "# Getting Started with TimeCopilot\n",
    "\n",
    "Welcome to TimeCopilot! This notebook will guide you through your first steps with the GenAI Forecasting Agent.\n",
    "\n",
    "TimeCopilot combines the power of large language models with state-of-the-art time series foundation models to automate and explain complex forecasting workflows."
   ]
  },
  {
   "cell_type": "markdown",
   "metadata": {},
   "source": [
    "## Installation\n",
    "\n",
    "First, make sure you have TimeCopilot installed:\n",
    "\n",
    "```bash\n",
    "pip install timecopilot\n",
    "```\n",
    "\n",
    "or\n",
    "\n",
    "```bash\n",
    "uv add timecopilot\n",
    "```"
   ]
  },
  {
   "cell_type": "markdown",
   "metadata": {},
   "source": [
    "## Hello World Example\n",
    "\n",
    "Let's start with a simple forecasting example using the classic Air Passengers dataset."
   ]
  },
  {
   "cell_type": "code",
   "execution_count": null,
   "metadata": {},
   "outputs": [],
   "source": [
    "# Import libraries\n",
    "import pandas as pd\n",
    "from timecopilot import TimeCopilot\n",
    "\n",
    "# Load the dataset\n",
    "# The DataFrame must include at least the following columns:\n",
    "# - unique_id: Unique identifier for each time series (string)\n",
    "# - ds: Date column (datetime format)\n",
    "# - y: Target variable for forecasting (float format)\n",
    "df = pd.read_csv(\"https://timecopilot.s3.amazonaws.com/public/data/air_passengers.csv\")\n",
    "\n",
    "# Display the first few rows\n",
    "print(\"Dataset shape:\", df.shape)\n",
    "print(\"\\nFirst 5 rows:\")\n",
    "df.head()"
   ]
  },
  {
   "cell_type": "code",
   "execution_count": null,
   "metadata": {},
   "outputs": [],
   "source": [
    "# Initialize the forecasting agent\n",
    "# You can use any LLM by specifying the model parameter\n",
    "# Note: You'll need to set up your API keys as environment variables\n",
    "# For example: export OPENAI_API_KEY=\"your-api-key\"\n",
    "agent = TimeCopilot(model=\"openai:gpt-4o-mini\")\n",
    "\n",
    "# Generate forecast with explanation\n",
    "result = agent.forecast(\n",
    "    df=df,\n",
    "    h=12,  # Forecast horizon (12 months)\n",
    "    freq=\"M\",  # Monthly frequency\n",
    "    query=\"What trends do you see in the air passenger data?\"\n",
    ")\n",
    "\n",
    "print(\"Forecast complete!\")\n",
    "print(f\"Generated forecast for {result.forecast.shape[0]} periods\")"
   ]
  },
  {
   "cell_type": "markdown",
   "metadata": {},
   "source": [
    "## Understanding the Results\n",
    "\n",
    "The TimeCopilot agent returns comprehensive results including:\n",
    "\n",
    "1. **Forecast**: Point forecasts and prediction intervals\n",
    "2. **Explanation**: Natural language explanation of the analysis\n",
    "3. **Model Information**: Details about the selected model(s)\n",
    "4. **Statistical Features**: Time series characteristics"
   ]
  },
  {
   "cell_type": "code",
   "execution_count": null,
   "metadata": {},
   "outputs": [],
   "source": [
    "# View the forecast DataFrame\n",
    "print(\"Forecast results:\")\n",
    "result.forecast.head()"
   ]
  },
  {
   "cell_type": "code",
   "execution_count": null,
   "metadata": {},
   "outputs": [],
   "source": [
    "# Read the agent's explanation\n",
    "print(\"Agent's Analysis:\")\n",
    "print(result.explanation)"
   ]
  },
  {
   "cell_type": "markdown",
   "metadata": {},
   "source": [
    "## Visualization\n",
    "\n",
    "Let's create a simple visualization of our forecast results."
   ]
  },
  {
   "cell_type": "code",
   "execution_count": null,
   "metadata": {},
   "outputs": [],
   "source": [
    "import matplotlib.pyplot as plt\n",
    "import matplotlib.dates as mdates\n",
    "from datetime import datetime\n",
    "\n",
    "# Prepare the data for plotting\n",
    "historical = df.copy()\n",
    "historical['ds'] = pd.to_datetime(historical['ds'])\n",
    "forecast = result.forecast.copy()\n",
    "forecast['ds'] = pd.to_datetime(forecast['ds'])\n",
    "\n",
    "# Create the plot\n",
    "fig, ax = plt.subplots(figsize=(12, 6))\n",
    "\n",
    "# Plot historical data\n",
    "ax.plot(historical['ds'], historical['y'], label='Historical Data', color='blue', linewidth=2)\n",
    "\n",
    "# Plot forecast\n",
    "ax.plot(forecast['ds'], forecast['y'], label='Forecast', color='red', linewidth=2, linestyle='--')\n",
    "\n",
    "# Add prediction intervals if available\n",
    "if 'lo-80' in forecast.columns and 'hi-80' in forecast.columns:\n",
    "    ax.fill_between(forecast['ds'], forecast['lo-80'], forecast['hi-80'], \n",
    "                   alpha=0.3, color='red', label='80% Prediction Interval')\n",
    "\n",
    "# Formatting\n",
    "ax.set_xlabel('Date')\n",
    "ax.set_ylabel('Air Passengers (thousands)')\n",
    "ax.set_title('Air Passengers Forecast with TimeCopilot')\n",
    "ax.legend()\n",
    "ax.grid(True, alpha=0.3)\n",
    "\n",
    "# Format x-axis dates\n",
    "ax.xaxis.set_major_formatter(mdates.DateFormatter('%Y-%m'))\n",
    "ax.xaxis.set_major_locator(mdates.YearLocator())\n",
    "plt.xticks(rotation=45)\n",
    "\n",
    "plt.tight_layout()\n",
    "plt.show()"
   ]
  },
  {
   "cell_type": "markdown",
   "metadata": {},
   "source": [
    "## Next Steps\n",
    "\n",
    "Congratulations! You've successfully created your first forecast with TimeCopilot. Here are some next steps to explore:\n",
    "\n",
    "1. **Try Different Models**: Experiment with different LLMs (GPT-4, Claude, etc.)\n",
    "2. **Custom Queries**: Ask specific questions about your data\n",
    "3. **Multiple Time Series**: Work with panel data containing multiple time series\n",
    "4. **Model Comparison**: Compare different forecasting approaches\n",
    "\n",
    "Check out the other example notebooks to learn more advanced features!"
   ]
  }
 ],
 "metadata": {
  "kernelspec": {
   "display_name": "Python 3",
   "language": "python",
   "name": "python3"
  },
  "language_info": {
   "codemirror_mode": {
    "name": "ipython",
    "version": 3
   },
   "file_extension": ".py",
   "mimetype": "text/x-python",
   "name": "python",
   "nbconvert_exporter": "python",
   "pygments_lexer": "ipython3",
   "version": "3.10.0"
  }
 },
 "nbformat": 4,
 "nbformat_minor": 4
}