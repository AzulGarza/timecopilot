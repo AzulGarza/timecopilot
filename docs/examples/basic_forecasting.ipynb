{
 "cells": [
  {
   "cell_type": "markdown",
   "metadata": {},
   "source": [
    "# Basic Forecasting with TimeCopilot\n",
    "\n",
    "This notebook demonstrates the core forecasting capabilities of TimeCopilot, including how to work with different data formats, model selection, and interpretation of results."
   ]
  },
  {
   "cell_type": "markdown",
   "metadata": {},
   "source": [
    "## Data Preparation\n",
    "\n",
    "TimeCopilot works with pandas DataFrames that follow a specific format. Let's explore the data requirements and preparation steps."
   ]
  },
  {
   "cell_type": "code",
   "execution_count": null,
   "metadata": {},
   "outputs": [],
   "source": [
    "import pandas as pd\n",
    "import numpy as np\n",
    "from timecopilot import TimeCopilot\n",
    "from timecopilot.forecaster import TimeCopilotForecaster\n",
    "from timecopilot.models.benchmarks import AutoETS, AutoARIMA\n",
    "from timecopilot.models.foundational.timesfm import TimesFM\n",
    "import matplotlib.pyplot as plt\n",
    "\n",
    "# Set random seed for reproducibility\n",
    "np.random.seed(42)"
   ]
  },
  {
   "cell_type": "markdown",
   "metadata": {},
   "source": [
    "## Required Data Format\n",
    "\n",
    "TimeCopilot requires your data to be in a specific format with these columns:\n",
    "\n",
    "- **unique_id**: Unique identifier for each time series (string)\n",
    "- **ds**: Date column (datetime format)\n",
    "- **y**: Target variable for forecasting (float format)\n",
    "\n",
    "Let's load and examine a sample dataset:"
   ]
  },
  {
   "cell_type": "code",
   "execution_count": null,
   "metadata": {},
   "outputs": [],
   "source": [
    "# Load a sample dataset\n",
    "df = pd.read_csv(\"https://timecopilot.s3.amazonaws.com/public/data/air_passengers.csv\")\n",
    "\n",
    "# Display dataset information\n",
    "print(\"Dataset shape:\", df.shape)\n",
    "print(\"\\nColumn names:\", df.columns.tolist())\n",
    "print(\"\\nData types:\")\n",
    "print(df.dtypes)\n",
    "print(\"\\nFirst few rows:\")\n",
    "df.head()"
   ]
  },
  {
   "cell_type": "code",
   "execution_count": null,
   "metadata": {},
   "outputs": [],
   "source": [
    "# Convert date column to datetime if needed\n",
    "df['ds'] = pd.to_datetime(df['ds'])\n",
    "\n",
    "# Basic statistics about the time series\n",
    "print(\"Time series statistics:\")\n",
    "print(f\"Date range: {df['ds'].min()} to {df['ds'].max()}\")\n",
    "print(f\"Number of observations: {len(df)}\")\n",
    "print(f\"Target variable range: {df['y'].min():.2f} to {df['y'].max():.2f}\")\n",
    "print(f\"Missing values: {df['y'].isna().sum()}\")"
   ]
  },
  {
   "cell_type": "markdown",
   "metadata": {},
   "source": [
    "## Using the TimeCopilot Agent\n",
    "\n",
    "The TimeCopilot agent provides an intelligent interface that combines forecasting with natural language explanations."
   ]
  },
  {
   "cell_type": "code",
   "execution_count": null,
   "metadata": {},
   "outputs": [],
   "source": [
    "# Initialize the TimeCopilot agent\n",
    "# Note: Make sure you have your API keys set up as environment variables\n",
    "agent = TimeCopilot(\n",
    "    model=\"openai:gpt-4o-mini\",  # You can also use \"openai:gpt-4o\", \"anthropic:claude-3-5-sonnet-20241022\", etc.\n",
    ")\n",
    "\n",
    "# Generate forecast with specific parameters\n",
    "result = agent.forecast(\n",
    "    df=df,\n",
    "    h=24,  # Forecast 24 periods ahead\n",
    "    freq=\"M\",  # Monthly frequency\n",
    "    level=[80, 95],  # Prediction intervals\n",
    "    query=\"Analyze the seasonal patterns and provide insights about future trends\"\n",
    ")\n",
    "\n",
    "print(\"Forecast generated successfully!\")\n",
    "print(f\"Forecast shape: {result.forecast.shape}\")\n",
    "print(f\"Model used: {result.model}\")"
   ]
  },
  {
   "cell_type": "markdown",
   "metadata": {},
   "source": [
    "## Analyzing the Results"
   ]
  },
  {
   "cell_type": "code",
   "execution_count": null,
   "metadata": {},
   "outputs": [],
   "source": [
    "# Display the forecast results\n",
    "print(\"Forecast DataFrame:\")\n",
    "result.forecast.head(10)"
   ]
  },
  {
   "cell_type": "code",
   "execution_count": null,
   "metadata": {},
   "outputs": [],
   "source": [
    "# Read the agent's explanation\n",
    "print(\"Agent's Analysis:\")\n",
    "print(\"=\" * 50)\n",
    "print(result.explanation)\n",
    "print(\"=\" * 50)"
   ]
  },
  {
   "cell_type": "markdown",
   "metadata": {},
   "source": [
    "## Using the TimeCopilotForecaster Directly\n",
    "\n",
    "For more control over the forecasting process, you can use the TimeCopilotForecaster directly with specific models."
   ]
  },
  {
   "cell_type": "code",
   "execution_count": null,
   "metadata": {},
   "outputs": [],
   "source": [
    "# Initialize individual models\n",
    "models = [\n",
    "    AutoETS(),\n",
    "    AutoARIMA(),\n",
    "    TimesFM(),  # Foundation model\n",
    "]\n",
    "\n",
    "# Create the unified forecaster\n",
    "forecaster = TimeCopilotForecaster(models=models)\n",
    "\n",
    "# Generate forecasts\n",
    "forecasts = forecaster.forecast(\n",
    "    df=df,\n",
    "    h=12,\n",
    "    freq=\"M\",\n",
    "    level=[80, 95]\n",
    ")\n",
    "\n",
    "print(\"Multi-model forecast generated!\")\n",
    "print(f\"Shape: {forecasts.shape}\")\n",
    "print(f\"\\nModels used: {forecasts['model'].unique()}\")\n",
    "forecasts.head()"
   ]
  },
  {
   "cell_type": "markdown",
   "metadata": {},
   "source": [
    "## Cross-Validation\n",
    "\n",
    "Evaluate model performance using cross-validation."
   ]
  },
  {
   "cell_type": "code",
   "execution_count": null,
   "metadata": {},
   "outputs": [],
   "source": [
    "# Perform cross-validation\n",
    "cv_results = forecaster.cross_validation(\n",
    "    df=df,\n",
    "    h=6,  # Forecast 6 periods ahead\n",
    "    freq=\"M\",\n",
    "    n_windows=3,  # Number of cross-validation windows\n",
    "    step_size=6   # Step size between windows\n",
    ")\n",
    "\n",
    "print(\"Cross-validation completed!\")\n",
    "print(f\"CV results shape: {cv_results.shape}\")\n",
    "cv_results.head()"
   ]
  },
  {
   "cell_type": "code",
   "execution_count": null,
   "metadata": {},
   "outputs": [],
   "source": [
    "# Calculate accuracy metrics\n",
    "from sklearn.metrics import mean_absolute_error, mean_squared_error\n",
    "\n",
    "# Group by model and calculate metrics\n",
    "metrics = []\n",
    "for model in cv_results['model'].unique():\n",
    "    model_data = cv_results[cv_results['model'] == model]\n",
    "    \n",
    "    mae = mean_absolute_error(model_data['y'], model_data['y_pred'])\n",
    "    mse = mean_squared_error(model_data['y'], model_data['y_pred'])\n",
    "    rmse = np.sqrt(mse)\n",
    "    \n",
    "    metrics.append({\n",
    "        'model': model,\n",
    "        'mae': mae,\n",
    "        'mse': mse,\n",
    "        'rmse': rmse\n",
    "    })\n",
    "\n",
    "metrics_df = pd.DataFrame(metrics)\n",
    "print(\"Model Performance Metrics:\")\n",
    "metrics_df.round(2)"
   ]
  },
  {
   "cell_type": "markdown",
   "metadata": {},
   "source": [
    "## Visualization\n",
    "\n",
    "Create comprehensive visualizations of the forecast results."
   ]
  },
  {
   "cell_type": "code",
   "execution_count": null,
   "metadata": {},
   "outputs": [],
   "source": [
    "# Plot historical data and forecasts\n",
    "fig, axes = plt.subplots(2, 2, figsize=(15, 10))\n",
    "\n",
    "# Plot 1: Historical data\n",
    "axes[0, 0].plot(pd.to_datetime(df['ds']), df['y'], 'b-', linewidth=2)\n",
    "axes[0, 0].set_title('Historical Data')\n",
    "axes[0, 0].set_xlabel('Date')\n",
    "axes[0, 0].set_ylabel('Air Passengers')\n",
    "axes[0, 0].grid(True, alpha=0.3)\n",
    "\n",
    "# Plot 2: Agent forecast with intervals\n",
    "agent_forecast = result.forecast\n",
    "agent_forecast['ds'] = pd.to_datetime(agent_forecast['ds'])\n",
    "\n",
    "axes[0, 1].plot(pd.to_datetime(df['ds']), df['y'], 'b-', label='Historical', linewidth=2)\n",
    "axes[0, 1].plot(agent_forecast['ds'], agent_forecast['y'], 'r--', label='Forecast', linewidth=2)\n",
    "\n",
    "# Add prediction intervals if available\n",
    "if 'lo-80' in agent_forecast.columns:\n",
    "    axes[0, 1].fill_between(agent_forecast['ds'], agent_forecast['lo-80'], agent_forecast['hi-80'], \n",
    "                           alpha=0.3, color='red', label='80% PI')\n",
    "if 'lo-95' in agent_forecast.columns:\n",
    "    axes[0, 1].fill_between(agent_forecast['ds'], agent_forecast['lo-95'], agent_forecast['hi-95'], \n",
    "                           alpha=0.2, color='red', label='95% PI')\n",
    "\n",
    "axes[0, 1].set_title('Agent Forecast with Prediction Intervals')\n",
    "axes[0, 1].set_xlabel('Date')\n",
    "axes[0, 1].set_ylabel('Air Passengers')\n",
    "axes[0, 1].legend()\n",
    "axes[0, 1].grid(True, alpha=0.3)\n",
    "\n",
    "# Plot 3: Model comparison\n",
    "colors = ['red', 'green', 'blue', 'orange', 'purple']\n",
    "axes[1, 0].plot(pd.to_datetime(df['ds']), df['y'], 'k-', label='Historical', linewidth=2, alpha=0.7)\n",
    "\n",
    "for i, model in enumerate(forecasts['model'].unique()):\n",
    "    model_data = forecasts[forecasts['model'] == model]\n",
    "    model_data['ds'] = pd.to_datetime(model_data['ds'])\n",
    "    axes[1, 0].plot(model_data['ds'], model_data['y'], \n",
    "                   color=colors[i % len(colors)], linestyle='--', \n",
    "                   label=model, linewidth=2)\n",
    "\n",
    "axes[1, 0].set_title('Model Comparison')\n",
    "axes[1, 0].set_xlabel('Date')\n",
    "axes[1, 0].set_ylabel('Air Passengers')\n",
    "axes[1, 0].legend()\n",
    "axes[1, 0].grid(True, alpha=0.3)\n",
    "\n",
    "# Plot 4: Model performance metrics\n",
    "metrics_df.set_index('model')[['mae', 'rmse']].plot(kind='bar', ax=axes[1, 1])\n",
    "axes[1, 1].set_title('Model Performance Metrics')\n",
    "axes[1, 1].set_ylabel('Error')\n",
    "axes[1, 1].legend(['MAE', 'RMSE'])\n",
    "axes[1, 1].grid(True, alpha=0.3)\n",
    "\n",
    "plt.tight_layout()\n",
    "plt.show()"
   ]
  },
  {
   "cell_type": "markdown",
   "metadata": {},
   "source": [
    "## Key Takeaways\n",
    "\n",
    "1. **Data Format**: TimeCopilot requires data in a specific format with `unique_id`, `ds`, and `y` columns\n",
    "2. **Agent Interface**: The TimeCopilot agent provides intelligent model selection and natural language explanations\n",
    "3. **Direct Forecaster**: For more control, use TimeCopilotForecaster with specific models\n",
    "4. **Model Evaluation**: Cross-validation helps assess model performance\n",
    "5. **Visualization**: Comprehensive plots help understand patterns and forecasts\n",
    "\n",
    "In the next notebook, we'll explore more advanced features like working with multiple time series and custom model configurations."
   ]
  }
 ],
 "metadata": {
  "kernelspec": {
   "display_name": "Python 3",
   "language": "python",
   "name": "python3"
  },
  "language_info": {
   "codemirror_mode": {
    "name": "ipython",
    "version": 3
   },
   "file_extension": ".py",
   "mimetype": "text/x-python",
   "name": "python",
   "nbconvert_exporter": "python",
   "pygments_lexer": "ipython3",
   "version": "3.10.0"
  }
 },
 "nbformat": 4,
 "nbformat_minor": 4
}